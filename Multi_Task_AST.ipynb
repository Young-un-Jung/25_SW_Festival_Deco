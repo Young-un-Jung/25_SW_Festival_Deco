{
  "nbformat": 4,
  "nbformat_minor": 0,
  "metadata": {
    "colab": {
      "provenance": [],
      "gpuType": "A100"
    },
    "kernelspec": {
      "name": "python3",
      "display_name": "Python 3"
    },
    "language_info": {
      "name": "python"
    },
    "accelerator": "GPU"
  },
  "cells": [
    {
      "cell_type": "code",
      "source": [
        "# ================================================================= #\n",
        "# 단계 1: 기본 환경 준비 및 라이브러리 임포트\n",
        "# ================================================================= #\n",
        "!pip install wget -q\n",
        "import sys\n",
        "import os\n",
        "import wget\n",
        "import warnings\n",
        "import numpy as np\n",
        "import pandas as pd\n",
        "import matplotlib.pyplot as plt\n",
        "from sklearn.metrics import accuracy_score, mean_absolute_error\n",
        "\n",
        "# Colab 환경인지 확인하고 AST 코드 다운로드\n",
        "if 'google.colab' in sys.modules:\n",
        "    print('Colab 환경에서 실행 중입니다.')\n",
        "    if not os.path.exists('/content/ast'):\n",
        "        !git clone https://github.com/YuanGongND/ast.git > /dev/null 2>&1\n",
        "    sys.path.append('/content/ast')\n",
        "\n",
        "# 필요한 라이브러리 설치\n",
        "!apt-get install -y ffmpeg > /dev/null 2>&1\n",
        "!pip install timm==0.4.5 wget librosa scikit-learn pandas tqdm -q\n",
        "\n",
        "# 라이브러리 불러오기\n",
        "import torch\n",
        "import torchaudio\n",
        "import torch.nn as nn\n",
        "from torch.utils.data import Dataset, DataLoader\n",
        "from torch.cuda.amp import autocast, GradScaler\n",
        "from src.models import ASTModel\n",
        "from tqdm import tqdm\n",
        "\n",
        "warnings.filterwarnings('ignore') # 경고 메시지 제거\n",
        "\n",
        "print(\"\\n기본 환경 준비가 완료되었습니다.\")\n",
        "\n",
        "\n",
        "# ================================================================= #\n",
        "# 단계 2: 오디오 처리를 위한 헬퍼 함수 정의\n",
        "# ================================================================= #\n",
        "def make_features(wav_name, mel_bins, target_length=1024):\n",
        "    try:\n",
        "        waveform, sr = torchaudio.load(wav_name)\n",
        "        if sr != 16000:\n",
        "            waveform = torchaudio.transforms.Resample(sr, 16000)(waveform)\n",
        "        sr = 16000\n",
        "        fbank = torchaudio.compliance.kaldi.fbank(\n",
        "            waveform, htk_compat=True, sample_frequency=sr, use_energy=False,\n",
        "            window_type='hanning', num_mel_bins=mel_bins, dither=0.0, frame_shift=10\n",
        "        )\n",
        "        n_frames = fbank.shape[0]\n",
        "        p = target_length - n_frames\n",
        "        if p > 0: fbank = torch.nn.ZeroPad2d((0, 0, 0, p))(fbank)\n",
        "        elif p < 0: fbank = fbank[0:target_length, :]\n",
        "        fbank = (fbank - (-4.2677393)) / (4.5689974 * 2)\n",
        "        return fbank\n",
        "    except Exception as e:\n",
        "        print(f\" - '{os.path.basename(wav_name)}' 파일 처리 중 오류가 발생했습니다: {e}\")\n",
        "        return None\n",
        "\n",
        "print(\"헬퍼 함수가 정의되었습니다.\")\n",
        "\n",
        "\n",
        "# ================================================================= #\n",
        "# 단계 3: PyTorch 커스텀 데이터셋\n",
        "# ================================================================= #\n",
        "class MultiTaskDataset(Dataset):\n",
        "    def __init__(self, df, audio_folder, class_to_idx):\n",
        "        self.df = df\n",
        "        self.audio_folder = audio_folder\n",
        "        self.class_to_idx = class_to_idx\n",
        "\n",
        "    def __len__(self):\n",
        "        return len(self.df)\n",
        "\n",
        "    def __getitem__(self, idx):\n",
        "        row = self.df.iloc[idx]\n",
        "        filename = row.name\n",
        "        wav_path = os.path.join(self.audio_folder, filename)\n",
        "        features = make_features(wav_path, mel_bins=128)\n",
        "\n",
        "        if features is None:\n",
        "            return None, None, None\n",
        "\n",
        "        label_name = row['label']\n",
        "        label_idx = self.class_to_idx[label_name]\n",
        "        decibel_val = torch.tensor(float(row['decibel']), dtype=torch.float)\n",
        "\n",
        "        return features, torch.tensor(label_idx, dtype=torch.long), decibel_val\n",
        "\n",
        "def multitask_collate_fn(batch):\n",
        "    batch = list(filter(lambda x: x[0] is not None, batch))\n",
        "    if not batch:\n",
        "        return torch.tensor([]), torch.tensor([]), torch.tensor([])\n",
        "    return torch.utils.data.dataloader.default_collate(batch)\n",
        "\n",
        "print(\"다중 작업용 커스텀 데이터셋이 정의되었습니다.\")\n",
        "\n",
        "\n",
        "# ================================================================= #\n",
        "# 단계 4: 데이터 준비 및 데이터로더\n",
        "# ================================================================= #\n",
        "from google.colab import drive\n",
        "drive.mount('/content/drive', force_remount=True)\n",
        "\n",
        "#  ******** 사용자 설정 영역 ********\n",
        "CLASSES = ['desk', 'chair', 'lecturestand', 'book', 'hammer']\n",
        "train_audio_folder = \"/content/drive/MyDrive/AI 학습/train\"\n",
        "validation_audio_folder = \"/content/drive/MyDrive/AI 학습/val\"\n",
        "train_csv_path = \"/content/drive/MyDrive/AI 학습/ground_truth_all_train.txt\"\n",
        "validation_csv_path = \"/content/drive/MyDrive/AI 학습/ground_truth_val.txt\"\n",
        "# ***********************************\n",
        "\n",
        "class_to_idx = {name: i for i, name in enumerate(CLASSES)}\n",
        "idx_to_class = {i: name for i, name in enumerate(CLASSES)}\n",
        "num_classes = len(CLASSES)\n",
        "print(f\"클래스 정보: {class_to_idx}\")\n",
        "\n",
        "def load_and_prepare_df_multitask(csv_path, audio_folder):\n",
        "    try:\n",
        "        df = pd.read_csv(csv_path, header=None, names=['filename_raw', 'decibel'])\n",
        "        df['label'] = df['filename_raw'].str.split('_').str[1]\n",
        "        df['filename'] = df['filename_raw'].str.strip()\n",
        "        df.set_index('filename', inplace=True)\n",
        "        df_filtered = df[df['label'].isin(CLASSES)]\n",
        "        return df_filtered\n",
        "    except Exception as e:\n",
        "        print(f\"'{csv_path}' 파일 처리 중 오류가 발생했습니다: {e}\")\n",
        "        return None\n",
        "\n",
        "print(\"\\n[데이터 준비 시작]\")\n",
        "train_df = load_and_prepare_df_multitask(train_csv_path, train_audio_folder)\n",
        "val_df = load_and_prepare_df_multitask(validation_csv_path, validation_audio_folder)\n",
        "\n",
        "if train_df is not None and val_df is not None and not train_df.empty and not val_df.empty:\n",
        "    train_dataset = MultiTaskDataset(train_df, train_audio_folder, class_to_idx)\n",
        "    val_dataset = MultiTaskDataset(val_df, validation_audio_folder, class_to_idx)\n",
        "\n",
        "    BATCH_SIZE = 8\n",
        "\n",
        "    train_loader = DataLoader(train_dataset, batch_size=BATCH_SIZE, shuffle=True, collate_fn=multitask_collate_fn, num_workers=0, pin_memory=True)\n",
        "    val_loader = DataLoader(val_dataset, batch_size=BATCH_SIZE, shuffle=False, collate_fn=multitask_collate_fn, num_workers=0, pin_memory=True)\n",
        "\n",
        "    print(\"데이터 준비 및 데이터로더 생성이 완료되었습니다.\")\n",
        "else:\n",
        "    print(\"학습 또는 검증 데이터가 비어있어 진행할 수 없습니다. 파일 경로와 내용을 확인해주시기 바랍니다.\")\n",
        "\n",
        "\n",
        "# ================================================================= #\n",
        "# 단계 5: 모델 구조 및 가중치 로딩\n",
        "# ================================================================= #\n",
        "device = torch.device(\"cuda\" if torch.cuda.is_available() else \"cpu\")\n",
        "audioset_mdl_url = 'https://www.dropbox.com/s/cv4knew8mvbrnvq/audioset_0.4593.pth?dl=1'\n",
        "pretrained_model_path = '/content/ast/pretrained_models/audioset_0.4593.pth'\n",
        "if not os.path.exists('/content/ast/pretrained_models'): os.makedirs('/content/ast/pretrained_models')\n",
        "if not os.path.exists(pretrained_model_path): wget.download(audioset_mdl_url, out=pretrained_model_path)\n",
        "\n",
        "class MultiTaskAST(nn.Module):\n",
        "    def __init__(self, num_classes):\n",
        "        super().__init__()\n",
        "        self.base_ast = ASTModel(label_dim=527, input_tdim=1024, imagenet_pretrain=False, audioset_pretrain=False)\n",
        "        self.classification_head = nn.Sequential(nn.LayerNorm(768), nn.Linear(768, 512), nn.ReLU(), nn.Dropout(0.3), nn.Linear(512, num_classes))\n",
        "        self.regression_head = nn.Sequential(nn.LayerNorm(768), nn.Linear(768, 256), nn.ReLU(), nn.Linear(256, 1))\n",
        "\n",
        "    def get_embedding(self, x):\n",
        "        x = x.unsqueeze(1); x = x.transpose(2, 3); B = x.shape[0]\n",
        "        x = self.base_ast.v.patch_embed(x)\n",
        "        cls_tokens = self.base_ast.v.cls_token.expand(B, -1, -1); dist_token = self.base_ast.v.dist_token.expand(B, -1, -1)\n",
        "        x = torch.cat((cls_tokens, dist_token, x), dim=1); x = x + self.base_ast.v.pos_embed; x = self.base_ast.v.pos_drop(x)\n",
        "        for blk in self.base_ast.v.blocks: x = blk(x)\n",
        "        x = self.base_ast.v.norm(x); x = (x[:, 0] + x[:, 1]) / 2\n",
        "        return x\n",
        "\n",
        "    def forward(self, x):\n",
        "        embedding = self.get_embedding(x)\n",
        "        class_output = self.classification_head(embedding)\n",
        "        decibel_output = self.regression_head(embedding)\n",
        "        return class_output, decibel_output\n",
        "\n",
        "model = MultiTaskAST(num_classes=num_classes)\n",
        "checkpoint = torch.load(pretrained_model_path, map_location='cpu')\n",
        "base_ast_state_dict = {k.replace('module.', ''): v for k, v in checkpoint.items()}\n",
        "model.base_ast.load_state_dict(base_ast_state_dict, strict=False)\n",
        "model = model.to(device)\n",
        "print(f\"다중 작업용 모델 생성 및 가중치 로드가 완료되었습니다. (장치: {device})\")\n",
        "\n",
        "\n",
        "# ================================================================= #\n",
        "# 단계 6: 모델 학습\n",
        "# ================================================================= #\n",
        "if 'train_loader' in locals() and 'val_loader' in locals():\n",
        "    EPOCHS = 20\n",
        "    LEARNING_RATE = 1e-4\n",
        "    accumulation_steps = 4\n",
        "\n",
        "    criterion_classification = nn.CrossEntropyLoss()\n",
        "    criterion_regression = nn.MSELoss()\n",
        "    criterion_mae = nn.L1Loss()\n",
        "    optimizer = torch.optim.Adam(model.parameters(), lr=LEARNING_RATE)\n",
        "    scaler = torch.cuda.amp.GradScaler()\n",
        "\n",
        "    training_history = []\n",
        "    train_loss_plot, val_loss_plot = [], []\n",
        "    train_mae_plot, val_mae_plot = [], []\n",
        "    best_val_loss = float('inf')\n",
        "\n",
        "    print(\"\\n[모델 학습 시작]\")\n",
        "    for epoch in range(EPOCHS):\n",
        "        # --- 훈련 단계 ---\n",
        "        model.train()\n",
        "        running_train_loss, running_train_mae = 0.0, 0.0\n",
        "        train_pbar = tqdm(train_loader, desc=f\"Epoch [{epoch+1}/{EPOCHS}] Training\", unit=\"batch\")\n",
        "\n",
        "        for i, (features, labels, decibels) in enumerate(train_pbar):\n",
        "            features, labels, decibels = features.to(device), labels.to(device), decibels.to(device)\n",
        "            with autocast():\n",
        "                class_preds, decibel_preds = model(features)\n",
        "                loss_class = criterion_classification(class_preds, labels)\n",
        "                loss_reg = criterion_regression(decibel_preds.squeeze(), decibels)\n",
        "                total_loss = (loss_class + loss_reg) / accumulation_steps\n",
        "\n",
        "            scaler.scale(total_loss).backward()\n",
        "            if (i + 1) % accumulation_steps == 0:\n",
        "                scaler.step(optimizer); scaler.update(); optimizer.zero_grad()\n",
        "\n",
        "            mae_batch = criterion_mae(decibel_preds.squeeze(), decibels)\n",
        "            running_train_loss += total_loss.item() * accumulation_steps\n",
        "            running_train_mae += mae_batch.item()\n",
        "            train_pbar.set_postfix(train_loss=f\"{total_loss.item()*accumulation_steps:.4f}\", train_mae=f\"{mae_batch.item():.4f}\")\n",
        "\n",
        "        avg_train_loss = running_train_loss / len(train_loader)\n",
        "        avg_train_mae = running_train_mae / len(train_loader)\n",
        "        train_loss_plot.append(avg_train_loss)\n",
        "        train_mae_plot.append(avg_train_mae)\n",
        "\n",
        "        # --- 검증 단계 ---\n",
        "        model.eval()\n",
        "        running_val_loss, running_val_mae = 0.0, 0.0\n",
        "        val_pbar = tqdm(val_loader, desc=f\"Epoch [{epoch+1}/{EPOCHS}] Validation\", unit=\"batch\")\n",
        "\n",
        "        with torch.no_grad():\n",
        "            for features, labels, decibels in val_pbar:\n",
        "                features, labels, decibels = features.to(device), labels.to(device), decibels.to(device)\n",
        "                class_preds, decibel_preds = model(features)\n",
        "                loss_class = criterion_classification(class_preds, labels)\n",
        "                loss_reg = criterion_regression(decibel_preds.squeeze(), decibels)\n",
        "                total_val_loss = loss_class + loss_reg\n",
        "\n",
        "                mae_batch = criterion_mae(decibel_preds.squeeze(), decibels)\n",
        "                running_val_loss += total_val_loss.item()\n",
        "                running_val_mae += mae_batch.item()\n",
        "                val_pbar.set_postfix(val_loss=f\"{total_val_loss.item():.4f}\", val_mae=f\"{mae_batch.item():.4f}\")\n",
        "\n",
        "        avg_val_loss = running_val_loss / len(val_loader)\n",
        "        avg_val_mae = running_val_mae / len(val_loader)\n",
        "        val_loss_plot.append(avg_val_loss)\n",
        "        val_mae_plot.append(avg_val_mae)\n",
        "\n",
        "        print(f\"Epoch [{epoch+1}/{EPOCHS}] - Train Loss: {avg_train_loss:.4f}, Train MAE: {avg_train_mae:.4f} dB, Val Loss: {avg_val_loss:.4f}, Val MAE: {avg_val_mae:.4f} dB\")\n",
        "\n",
        "        training_history.append({\n",
        "            'epoch': epoch + 1,\n",
        "            'train_loss': avg_train_loss,\n",
        "            'train_mae': avg_train_mae,\n",
        "            'val_loss': avg_val_loss,\n",
        "            'val_mae': avg_val_mae\n",
        "        })\n",
        "\n",
        "        if avg_val_loss < best_val_loss:\n",
        "            best_val_loss = avg_val_loss\n",
        "            torch.save(model.state_dict(), 'best_model.pth')\n",
        "            print(f\"최적 모델이 저장되었습니다. (Validation Loss: {best_val_loss:.4f})\")\n",
        "\n",
        "    print(\"\\n모델 학습이 완료되었습니다.\")\n",
        "\n",
        "    history_df = pd.DataFrame(training_history)\n",
        "    history_df.to_csv('training_history.csv', index=False, float_format='%.4f')\n",
        "    print(\"학습 과정 기록이 'training_history.csv' 파일로 저장되었습니다.\")\n",
        "\n",
        "    fig, (ax1, ax2) = plt.subplots(1, 2, figsize=(18, 6))\n",
        "    ax1.plot(train_loss_plot, label='Train Loss')\n",
        "    ax1.plot(val_loss_plot, label='Validation Loss')\n",
        "    ax1.set_xlabel('Epoch')\n",
        "    ax1.set_ylabel('Loss')\n",
        "    ax1.set_title('Training & Validation Loss')\n",
        "    ax1.legend()\n",
        "    ax1.grid(True)\n",
        "\n",
        "    ax2.plot(train_mae_plot, label='Train MAE (dB)')\n",
        "    ax2.plot(val_mae_plot, label='Validation MAE (dB)')\n",
        "    ax2.set_xlabel('Epoch')\n",
        "    ax2.set_ylabel('Mean Absolute Error (dB)')\n",
        "    ax2.set_title('Training & Validation MAE')\n",
        "    ax2.legend()\n",
        "    ax2.grid(True)\n",
        "\n",
        "    plt.show()\n",
        "else:\n",
        "    print(\"\\n데이터 로딩에 실패하여 학습 및 평가를 건너뛰었습니다.\")\n",
        "\n",
        "\n",
        "# ================================================================= #\n",
        "# 단계 7: 검증 데이터셋 평가\n",
        "# ================================================================= #\n",
        "if 'val_loader' in locals():\n",
        "    print(\"\\n\\n[최고 성능 모델 로드 및 Validation Set 평가 시작]\")\n",
        "    if os.path.exists('best_model.pth'):\n",
        "        model.load_state_dict(torch.load('best_model.pth'))\n",
        "        print(\"저장된 'best_model.pth'를 성공적으로 로드했습니다.\")\n",
        "    else:\n",
        "        print(\"저장된 모델 파일('best_model.pth')을 찾을 수 없습니다. 마지막 모델로 평가를 진행합니다.\")\n",
        "\n",
        "    model.eval()\n",
        "    results_list = []\n",
        "    val_filenames = val_df.index.tolist(); file_iterator = 0\n",
        "    with torch.no_grad():\n",
        "        for features, labels, decibels in tqdm(val_loader, desc=\"Final Validation\"):\n",
        "            features = features.to(device)\n",
        "            class_preds, decibel_preds = model(features)\n",
        "            predicted_class_indices = torch.argmax(class_preds, dim=1).cpu().numpy()\n",
        "            predicted_decibels = decibel_preds.squeeze().cpu().numpy().reshape(-1)\n",
        "            actual_class_indices = labels.numpy(); actual_decibels = decibels.numpy()\n",
        "            for i in range(len(actual_class_indices)):\n",
        "                filename = val_filenames[file_iterator]\n",
        "                results_list.append({'filename': filename, 'actual_label': idx_to_class[actual_class_indices[i]], 'predicted_label': idx_to_class[predicted_class_indices[i]], 'actual_decibel': actual_decibels[i], 'predicted_decibel': predicted_decibels[i]})\n",
        "                file_iterator += 1\n",
        "\n",
        "    results_df = pd.DataFrame(results_list)\n",
        "    results_df.to_csv('prediction_comparison_validation.csv', index=False)\n",
        "    print(\"\\nValidation Set 예측 결과가 'prediction_comparison_validation.csv' 파일로 저장되었습니다.\")\n",
        "\n",
        "    if not results_df.empty:\n",
        "        final_val_accuracy = accuracy_score(results_df['actual_label'], results_df['predicted_label'])\n",
        "        final_val_mae = mean_absolute_error(results_df['actual_decibel'], results_df['predicted_decibel'])\n",
        "        print(f\"\\n--- Validation Set 성능 요약 (Best Model) ---\")\n",
        "        print(f\"분류 정확도: {final_val_accuracy:.2%}\")\n",
        "        print(f\"데시벨 예측 MAE: {final_val_mae:.2f} dB\")\n",
        "        print(\"------------------------------------------\")\n",
        "        print(\"\\n[결과 미리보기]\")\n",
        "        print(results_df.head())\n",
        "    else:\n",
        "        print(\"\\n평가할 데이터가 없어 성능 요약을 건너뛰었습니다.\")\n",
        "\n",
        "\n",
        "# ================================================================= #\n",
        "# 단계 8: 테스트 데이터셋 예측\n",
        "# ================================================================= #\n",
        "print(\"\\n\\n[Test Set으로 최종 예측 시작]\")\n",
        "test_audio_folder = \"/content/drive/MyDrive/AI 학습/test_audio_files\"\n",
        "test_csv_path = \"/content/drive/MyDrive/AI 학습/ground_truth_test.txt\"\n",
        "test_df = load_and_prepare_df_multitask(test_csv_path, test_audio_folder)\n",
        "\n",
        "if test_df is not None and not test_df.empty:\n",
        "    test_dataset = MultiTaskDataset(test_df, test_audio_folder, class_to_idx)\n",
        "    test_loader = DataLoader(test_dataset, batch_size=BATCH_SIZE, shuffle=False, collate_fn=multitask_collate_fn, num_workers=0, pin_memory=True)\n",
        "    print(\"Test Set 준비가 완료되었습니다.\")\n",
        "\n",
        "    model.eval()\n",
        "    test_results = []\n",
        "    test_filenames = test_df.index.tolist(); file_iterator = 0\n",
        "    with torch.no_grad():\n",
        "        for features, _, _ in tqdm(test_loader, desc=\"Testing\"):\n",
        "            features = features.to(device)\n",
        "            class_preds, decibel_preds = model(features)\n",
        "            predicted_class_indices = torch.argmax(class_preds, dim=1).cpu().numpy()\n",
        "            predicted_decibels = decibel_preds.squeeze().cpu().numpy().reshape(-1)\n",
        "            for i in range(len(predicted_class_indices)):\n",
        "                filename = test_filenames[file_iterator]\n",
        "                test_results.append({'filename': filename, 'predicted_label': idx_to_class[predicted_class_indices[i]], 'predicted_decibel': predicted_decibels[i]})\n",
        "                file_iterator += 1\n",
        "    test_results_df = pd.DataFrame(test_results)\n",
        "    print(f\"\\nTest Set 예측이 완료되었습니다. 최종 평가를 진행합니다.\")\n",
        "else:\n",
        "    print(\"\\nTest Set을 찾을 수 없어 예측을 건너뛰었습니다. 경로를 확인해주시기 바랍니다.\")\n",
        "\n",
        "\n",
        "# ================================================================= #\n",
        "# 단계 9 & 10: 최종 성능 평가, 결과 저장 및 과적합 분석\n",
        "# ================================================================= #\n",
        "import seaborn as sns\n",
        "from sklearn.metrics import classification_report, confusion_matrix, mean_squared_error, r2_score\n",
        "\n",
        "if 'test_results_df' in locals() and 'test_df' in locals() and not test_df.empty:\n",
        "    print(\"\\n\\n[Test Set 최종 성능 평가, 저장 및 과적합 분석 시작]\")\n",
        "\n",
        "    # 'filename'을 기준으로 실제 정답(test_df)과 모델 예측(test_results_df)을 통합합니다.\n",
        "    eval_df = test_df.merge(test_results_df, left_index=True, right_on='filename')\n",
        "\n",
        "    if not eval_df.empty:\n",
        "        # --- 1. 소음원 분류(Classification) 성능 평가 ---\n",
        "        actual_labels = eval_df['label']\n",
        "        predicted_labels = eval_df['predicted_label']\n",
        "        final_test_accuracy = accuracy_score(actual_labels, predicted_labels)\n",
        "\n",
        "        print(\"\\n\" + \"-\"*50)\n",
        "        print(\"                1. 소음원 분류(Classification) 성능 지표\")\n",
        "        print(\"-\"*50)\n",
        "        print(f\"\\n- 전체 분류 정확도 (Accuracy): {final_test_accuracy:.2%}\\n\")\n",
        "        print(\"[Classification Report]\")\n",
        "        print(classification_report(actual_labels, predicted_labels, target_names=CLASSES, zero_division=0))\n",
        "\n",
        "        print(\"\\n[Confusion Matrix]\")\n",
        "        cm = confusion_matrix(actual_labels, predicted_labels, labels=CLASSES)\n",
        "        plt.figure(figsize=(10, 8))\n",
        "        sns.heatmap(cm, annot=True, fmt='d', cmap='Blues', xticklabels=CLASSES, yticklabels=CLASSES)\n",
        "        plt.title('Test Data Confusion Matrix', fontsize=15)\n",
        "        plt.xlabel('Predicted Label', fontsize=12)\n",
        "        plt.ylabel('Actual Label', fontsize=12)\n",
        "        plt.show()\n",
        "\n",
        "        # --- 2. 데시벨 예측(Regression) 성능 평가 ---\n",
        "        actual_dbs = eval_df['decibel']\n",
        "        predicted_dbs = eval_df['predicted_decibel']\n",
        "\n",
        "        final_test_mae = mean_absolute_error(actual_dbs, predicted_dbs)\n",
        "        test_mse = mean_squared_error(actual_dbs, predicted_dbs)\n",
        "        test_rmse = np.sqrt(test_mse)\n",
        "        test_r2 = r2_score(actual_dbs, predicted_dbs)\n",
        "\n",
        "        print(\"\\n\" + \"-\"*50)\n",
        "        print(\"                2. 데시벨 예측(Regression) 성능 지표\")\n",
        "        print(\"-\"*50)\n",
        "        print(f\"\\n- 평균 절대 오차 (MAE)     : {final_test_mae:.4f} dB\")\n",
        "        print(f\"- 평균 제곱 오차 (MSE)     : {test_mse:.4f}\")\n",
        "        print(f\"- 평균 제곱근 오차 (RMSE)  : {test_rmse:.4f}\")\n",
        "        print(f\"- R² 점수 (R2 Score)       : {test_r2:.4f}\")\n",
        "\n",
        "        # --- 3. 최종 결과 저장 ---\n",
        "        print(\"\\n\" + \"-\"*50)\n",
        "        print(\"                3. 최종 결과 종합 및 파일 저장\")\n",
        "        print(\"-\"*50)\n",
        "\n",
        "        eval_df.rename(columns={'label': 'actual_label', 'decibel': 'actual_decibel'}, inplace=True)\n",
        "        eval_df['label_match'] = np.where(eval_df['actual_label'] == eval_df['predicted_label'], 'Match', 'Mismatch')\n",
        "        eval_df['decibel_difference'] = (eval_df['predicted_decibel'] - eval_df['actual_decibel']).abs()\n",
        "\n",
        "        final_columns = [\n",
        "            'filename', 'actual_label', 'predicted_label', 'label_match',\n",
        "            'actual_decibel', 'predicted_decibel', 'decibel_difference'\n",
        "        ]\n",
        "        results_df_with_summary = eval_df[final_columns].copy()\n",
        "        results_df_with_summary['overall_accuracy'] = final_test_accuracy\n",
        "        results_df_with_summary['overall_mae'] = final_test_mae\n",
        "\n",
        "        output_csv_path = 'test_results_all_in_one.csv'\n",
        "        results_df_with_summary.to_csv(output_csv_path, index=False, float_format='%.4f')\n",
        "\n",
        "        print(f\"\\n모든 상세 결과가 '{output_csv_path}' 파일로 저장되었습니다.\")\n",
        "        print(\"\\n[저장된 파일 미리보기]\")\n",
        "        print(results_df_with_summary.head())\n",
        "\n",
        "        # --- 4. 과적합(Overfitting) 분석 ---\n",
        "        if 'final_val_accuracy' in locals() and 'final_val_mae' in locals():\n",
        "            print(\"\\n\\n\" + \"-\"*50)\n",
        "            print(\"                4. 과적합(Overfitting) 분석\")\n",
        "            print(\"-\"*50)\n",
        "            print(\"\\n[Validation Set vs. Test Set 성능 비교]\\n\")\n",
        "            print(\"=\"*60)\n",
        "            print(f\"{'성능 지표':<25} | {'Validation Set':<15} | {'Test Set':<15}\")\n",
        "            print(\"-\"*60)\n",
        "            print(f\"{'분류 정확도 (Accuracy)':<25} | {final_val_accuracy:<15.2%} | {final_test_accuracy:<15.2%}\")\n",
        "            print(f\"{'데시벨 예측 오차 (MAE)':<25} | {final_val_mae:<15.4f} | {final_test_mae:<15.4f}\")\n",
        "            print(\"=\"*60)\n",
        "\n",
        "            print(\"\\n[자동 분석 결과]\")\n",
        "            if final_test_accuracy < final_val_accuracy * 0.95 or final_test_mae > final_val_mae * 1.1:\n",
        "                print(\"-> Test Set 성능이 Validation Set에 비해 다소 낮게 측정되었습니다.\")\n",
        "                print(\"   모델이 훈련 데이터에 과적합되었을 가능성이 있습니다.\")\n",
        "            else:\n",
        "                print(\"-> Test Set 성능이 Validation Set 성능과 유사하게 유지되었습니다.\")\n",
        "                print(\"   모델이 새로운 데이터에 대해서도 일반화 성능을 보이는 것으로 판단됩니다.\")\n",
        "        else:\n",
        "            print(\"\\n[과적합 분석 생략] Validation Set 평가 결과가 없어 비교할 수 없습니다.\")\n",
        "    else:\n",
        "        print(\"\\nTest Set의 정답과 예측 결과를 통합할 수 없습니다. 파일명을 확인해주시기 바랍니다.\")\n",
        "else:\n",
        "    print(\"\\n단계 8의 Test Set 예측이 먼저 실행되어야 합니다.\")"
      ],
      "metadata": {
        "colab": {
          "base_uri": "https://localhost:8080/",
          "height": 1000
        },
        "id": "aEB3QxIpPiiV",
        "outputId": "bedbbde6-c9e7-437d-8b21-d02a751b28c1"
      },
      "execution_count": null,
      "outputs": [
        {
          "output_type": "stream",
          "name": "stdout",
          "text": [
            "Colab 환경에서 실행 중입니다.\n",
            "\n",
            "기본 환경 준비가 완료되었습니다.\n",
            "헬퍼 함수가 정의되었습니다.\n",
            "다중 작업용 커스텀 데이터셋이 정의되었습니다.\n",
            "Mounted at /content/drive\n",
            "클래스 정보: {'desk': 0, 'chair': 1, 'lecturestand': 2, 'book': 3, 'hammer': 4}\n",
            "\n",
            "[데이터 준비 시작]\n",
            "데이터 준비 및 데이터로더 생성이 완료되었습니다.\n",
            "---------------AST Model Summary---------------\n",
            "ImageNet pretraining: False, AudioSet pretraining: False\n",
            "frequncey stride=10, time stride=10\n",
            "number of patches=1212\n",
            "다중 작업용 모델 생성 및 가중치 로드가 완료되었습니다. (장치: cuda)\n",
            "\n",
            "[모델 학습 시작]\n"
          ]
        },
        {
          "output_type": "stream",
          "name": "stderr",
          "text": [
            "Epoch [1/20] Training: 100%|██████████| 283/283 [01:31<00:00,  3.10batch/s, train_loss=1217.3204, train_mae=31.9229]\n",
            "Epoch [1/20] Validation: 100%|██████████| 81/81 [00:23<00:00,  3.47batch/s, val_loss=976.0183, val_mae=30.3192]\n"
          ]
        },
        {
          "output_type": "stream",
          "name": "stdout",
          "text": [
            "Epoch [1/20] - Train Loss: 2157.5147, Train MAE: 44.8835 dB, Val Loss: 1220.0469, Val MAE: 33.4848 dB\n",
            "최적 모델이 저장되었습니다. (Validation Loss: 1220.0469)\n"
          ]
        },
        {
          "output_type": "stream",
          "name": "stderr",
          "text": [
            "Epoch [2/20] Training: 100%|██████████| 283/283 [01:31<00:00,  3.10batch/s, train_loss=152.0064, train_mae=11.2979]\n",
            "Epoch [2/20] Validation: 100%|██████████| 81/81 [00:23<00:00,  3.45batch/s, val_loss=74.9341, val_mae=8.2155]\n"
          ]
        },
        {
          "output_type": "stream",
          "name": "stdout",
          "text": [
            "Epoch [2/20] - Train Loss: 555.5635, Train MAE: 20.3887 dB, Val Loss: 153.8785, Val MAE: 10.2251 dB\n",
            "최적 모델이 저장되었습니다. (Validation Loss: 153.8785)\n"
          ]
        },
        {
          "output_type": "stream",
          "name": "stderr",
          "text": [
            "Epoch [3/20] Training: 100%|██████████| 283/283 [01:31<00:00,  3.08batch/s, train_loss=164.0324, train_mae=11.1808]\n",
            "Epoch [3/20] Validation: 100%|██████████| 81/81 [00:23<00:00,  3.48batch/s, val_loss=60.8458, val_mae=4.6937]\n"
          ]
        },
        {
          "output_type": "stream",
          "name": "stdout",
          "text": [
            "Epoch [3/20] - Train Loss: 110.0675, Train MAE: 8.4888 dB, Val Loss: 100.1263, Val MAE: 8.0850 dB\n",
            "최적 모델이 저장되었습니다. (Validation Loss: 100.1263)\n"
          ]
        },
        {
          "output_type": "stream",
          "name": "stderr",
          "text": [
            "Epoch [4/20] Training: 100%|██████████| 283/283 [01:31<00:00,  3.08batch/s, train_loss=84.0866, train_mae=7.6219]\n",
            "Epoch [4/20] Validation: 100%|██████████| 81/81 [00:23<00:00,  3.48batch/s, val_loss=47.9514, val_mae=6.4136]\n"
          ]
        },
        {
          "output_type": "stream",
          "name": "stdout",
          "text": [
            "Epoch [4/20] - Train Loss: 83.7590, Train MAE: 7.1047 dB, Val Loss: 47.7398, Val MAE: 5.4863 dB\n",
            "최적 모델이 저장되었습니다. (Validation Loss: 47.7398)\n"
          ]
        },
        {
          "output_type": "stream",
          "name": "stderr",
          "text": [
            "Epoch [5/20] Training: 100%|██████████| 283/283 [01:32<00:00,  3.06batch/s, train_loss=9.2891, train_mae=2.6108]\n",
            "Epoch [5/20] Validation: 100%|██████████| 81/81 [00:23<00:00,  3.46batch/s, val_loss=11.9041, val_mae=2.7083]\n"
          ]
        },
        {
          "output_type": "stream",
          "name": "stdout",
          "text": [
            "Epoch [5/20] - Train Loss: 32.2018, Train MAE: 4.0768 dB, Val Loss: 21.5965, Val MAE: 3.4742 dB\n",
            "최적 모델이 저장되었습니다. (Validation Loss: 21.5965)\n"
          ]
        },
        {
          "output_type": "stream",
          "name": "stderr",
          "text": [
            "Epoch [6/20] Training: 100%|██████████| 283/283 [01:31<00:00,  3.08batch/s, train_loss=13.8878, train_mae=2.7383]\n",
            "Epoch [6/20] Validation: 100%|██████████| 81/81 [00:23<00:00,  3.49batch/s, val_loss=15.0783, val_mae=2.7036]\n"
          ]
        },
        {
          "output_type": "stream",
          "name": "stdout",
          "text": [
            "Epoch [6/20] - Train Loss: 20.0760, Train MAE: 3.1887 dB, Val Loss: 17.3091, Val MAE: 2.7464 dB\n",
            "최적 모델이 저장되었습니다. (Validation Loss: 17.3091)\n"
          ]
        },
        {
          "output_type": "stream",
          "name": "stderr",
          "text": [
            "Epoch [7/20] Training: 100%|██████████| 283/283 [01:31<00:00,  3.08batch/s, train_loss=3.2157, train_mae=1.6050]\n",
            "Epoch [7/20] Validation: 100%|██████████| 81/81 [00:23<00:00,  3.48batch/s, val_loss=11.3624, val_mae=2.9309]\n"
          ]
        },
        {
          "output_type": "stream",
          "name": "stdout",
          "text": [
            "Epoch [7/20] - Train Loss: 15.7341, Train MAE: 2.7577 dB, Val Loss: 14.8836, Val MAE: 2.6310 dB\n",
            "최적 모델이 저장되었습니다. (Validation Loss: 14.8836)\n"
          ]
        },
        {
          "output_type": "stream",
          "name": "stderr",
          "text": [
            "Epoch [8/20] Training: 100%|██████████| 283/283 [01:30<00:00,  3.12batch/s, train_loss=6.7619, train_mae=2.2937]\n",
            "Epoch [8/20] Validation: 100%|██████████| 81/81 [00:23<00:00,  3.49batch/s, val_loss=15.0522, val_mae=3.1059]\n"
          ]
        },
        {
          "output_type": "stream",
          "name": "stdout",
          "text": [
            "Epoch [8/20] - Train Loss: 13.4976, Train MAE: 2.5637 dB, Val Loss: 13.8502, Val MAE: 2.5651 dB\n",
            "최적 모델이 저장되었습니다. (Validation Loss: 13.8502)\n"
          ]
        },
        {
          "output_type": "stream",
          "name": "stderr",
          "text": [
            "Epoch [9/20] Training: 100%|██████████| 283/283 [01:31<00:00,  3.11batch/s, train_loss=3.2498, train_mae=1.1083]\n",
            "Epoch [9/20] Validation: 100%|██████████| 81/81 [00:23<00:00,  3.48batch/s, val_loss=3.4175, val_mae=1.4637]\n"
          ]
        },
        {
          "output_type": "stream",
          "name": "stdout",
          "text": [
            "Epoch [9/20] - Train Loss: 8.2299, Train MAE: 1.8361 dB, Val Loss: 9.1099, Val MAE: 1.9448 dB\n",
            "최적 모델이 저장되었습니다. (Validation Loss: 9.1099)\n"
          ]
        },
        {
          "output_type": "stream",
          "name": "stderr",
          "text": [
            "Epoch [10/20] Training: 100%|██████████| 283/283 [01:31<00:00,  3.08batch/s, train_loss=14.8369, train_mae=2.9704]\n",
            "Epoch [10/20] Validation: 100%|██████████| 81/81 [00:23<00:00,  3.49batch/s, val_loss=8.9953, val_mae=2.0822]\n"
          ]
        },
        {
          "output_type": "stream",
          "name": "stdout",
          "text": [
            "Epoch [10/20] - Train Loss: 6.6035, Train MAE: 1.6958 dB, Val Loss: 10.4623, Val MAE: 2.2135 dB\n"
          ]
        },
        {
          "output_type": "stream",
          "name": "stderr",
          "text": [
            "Epoch [11/20] Training: 100%|██████████| 283/283 [01:30<00:00,  3.12batch/s, train_loss=6.4745, train_mae=2.2873]\n",
            "Epoch [11/20] Validation: 100%|██████████| 81/81 [00:23<00:00,  3.51batch/s, val_loss=5.2000, val_mae=2.0351]\n"
          ]
        },
        {
          "output_type": "stream",
          "name": "stdout",
          "text": [
            "Epoch [11/20] - Train Loss: 5.7559, Train MAE: 1.6793 dB, Val Loss: 9.1619, Val MAE: 2.0057 dB\n"
          ]
        },
        {
          "output_type": "stream",
          "name": "stderr",
          "text": [
            "Epoch [12/20] Training: 100%|██████████| 283/283 [01:30<00:00,  3.14batch/s, train_loss=14.9155, train_mae=2.6371]\n",
            "Epoch [12/20] Validation: 100%|██████████| 81/81 [00:23<00:00,  3.49batch/s, val_loss=8.4513, val_mae=2.1877]\n"
          ]
        },
        {
          "output_type": "stream",
          "name": "stdout",
          "text": [
            "Epoch [12/20] - Train Loss: 4.6874, Train MAE: 1.5648 dB, Val Loss: 7.4114, Val MAE: 1.6722 dB\n",
            "최적 모델이 저장되었습니다. (Validation Loss: 7.4114)\n"
          ]
        },
        {
          "output_type": "stream",
          "name": "stderr",
          "text": [
            "Epoch [13/20] Training: 100%|██████████| 283/283 [01:31<00:00,  3.11batch/s, train_loss=1.0367, train_mae=0.7992]\n",
            "Epoch [13/20] Validation: 100%|██████████| 81/81 [00:23<00:00,  3.52batch/s, val_loss=5.1198, val_mae=1.7828]\n"
          ]
        },
        {
          "output_type": "stream",
          "name": "stdout",
          "text": [
            "Epoch [13/20] - Train Loss: 3.4822, Train MAE: 1.2853 dB, Val Loss: 6.9757, Val MAE: 1.7118 dB\n",
            "최적 모델이 저장되었습니다. (Validation Loss: 6.9757)\n"
          ]
        },
        {
          "output_type": "stream",
          "name": "stderr",
          "text": [
            "Epoch [14/20] Training: 100%|██████████| 283/283 [01:30<00:00,  3.13batch/s, train_loss=5.0119, train_mae=1.7288]\n",
            "Epoch [14/20] Validation: 100%|██████████| 81/81 [00:23<00:00,  3.49batch/s, val_loss=10.7340, val_mae=1.7786]\n"
          ]
        },
        {
          "output_type": "stream",
          "name": "stdout",
          "text": [
            "Epoch [14/20] - Train Loss: 2.5418, Train MAE: 1.0903 dB, Val Loss: 9.9486, Val MAE: 2.2466 dB\n"
          ]
        },
        {
          "output_type": "stream",
          "name": "stderr",
          "text": [
            "Epoch [15/20] Training: 100%|██████████| 283/283 [01:30<00:00,  3.14batch/s, train_loss=0.3582, train_mae=0.5167]\n",
            "Epoch [15/20] Validation: 100%|██████████| 81/81 [00:23<00:00,  3.50batch/s, val_loss=9.7174, val_mae=2.0799]\n"
          ]
        },
        {
          "output_type": "stream",
          "name": "stdout",
          "text": [
            "Epoch [15/20] - Train Loss: 2.3935, Train MAE: 1.0551 dB, Val Loss: 6.6784, Val MAE: 1.5787 dB\n",
            "최적 모델이 저장되었습니다. (Validation Loss: 6.6784)\n"
          ]
        },
        {
          "output_type": "stream",
          "name": "stderr",
          "text": [
            "Epoch [16/20] Training: 100%|██████████| 283/283 [01:31<00:00,  3.09batch/s, train_loss=3.7812, train_mae=1.7360]\n",
            "Epoch [16/20] Validation: 100%|██████████| 81/81 [00:22<00:00,  3.53batch/s, val_loss=5.3069, val_mae=1.5999]\n"
          ]
        },
        {
          "output_type": "stream",
          "name": "stdout",
          "text": [
            "Epoch [16/20] - Train Loss: 1.5874, Train MAE: 0.8404 dB, Val Loss: 6.7740, Val MAE: 1.6039 dB\n"
          ]
        },
        {
          "output_type": "stream",
          "name": "stderr",
          "text": [
            "Epoch [17/20] Training: 100%|██████████| 283/283 [01:30<00:00,  3.13batch/s, train_loss=0.8380, train_mae=0.5483]\n",
            "Epoch [17/20] Validation: 100%|██████████| 81/81 [00:23<00:00,  3.46batch/s, val_loss=8.8119, val_mae=1.6501]\n"
          ]
        },
        {
          "output_type": "stream",
          "name": "stdout",
          "text": [
            "Epoch [17/20] - Train Loss: 1.4560, Train MAE: 0.8214 dB, Val Loss: 6.4017, Val MAE: 1.5025 dB\n",
            "최적 모델이 저장되었습니다. (Validation Loss: 6.4017)\n"
          ]
        },
        {
          "output_type": "stream",
          "name": "stderr",
          "text": [
            "Epoch [18/20] Training: 100%|██████████| 283/283 [01:31<00:00,  3.08batch/s, train_loss=1.0346, train_mae=0.9544]\n",
            "Epoch [18/20] Validation: 100%|██████████| 81/81 [00:23<00:00,  3.49batch/s, val_loss=5.0038, val_mae=1.2701]\n"
          ]
        },
        {
          "output_type": "stream",
          "name": "stdout",
          "text": [
            "Epoch [18/20] - Train Loss: 1.4550, Train MAE: 0.8614 dB, Val Loss: 6.9054, Val MAE: 1.5936 dB\n"
          ]
        },
        {
          "output_type": "stream",
          "name": "stderr",
          "text": [
            "Epoch [19/20] Training: 100%|██████████| 283/283 [01:30<00:00,  3.12batch/s, train_loss=0.6998, train_mae=0.6315]\n",
            "Epoch [19/20] Validation: 100%|██████████| 81/81 [00:23<00:00,  3.49batch/s, val_loss=11.6288, val_mae=2.2410]\n"
          ]
        },
        {
          "output_type": "stream",
          "name": "stdout",
          "text": [
            "Epoch [19/20] - Train Loss: 1.4496, Train MAE: 0.8633 dB, Val Loss: 7.0632, Val MAE: 1.6039 dB\n"
          ]
        },
        {
          "output_type": "stream",
          "name": "stderr",
          "text": [
            "Epoch [20/20] Training: 100%|██████████| 283/283 [01:30<00:00,  3.11batch/s, train_loss=1.4532, train_mae=1.0585]\n",
            "Epoch [20/20] Validation: 100%|██████████| 81/81 [00:23<00:00,  3.49batch/s, val_loss=9.0995, val_mae=1.8841]\n"
          ]
        },
        {
          "output_type": "stream",
          "name": "stdout",
          "text": [
            "Epoch [20/20] - Train Loss: 1.2970, Train MAE: 0.7824 dB, Val Loss: 7.0363, Val MAE: 1.5505 dB\n",
            "\n",
            "모델 학습이 완료되었습니다.\n",
            "학습 과정 기록이 'training_history.csv' 파일로 저장되었습니다.\n"
          ]
        },
        {
          "output_type": "display_data",
          "data": {
            "text/plain": [
              "<Figure size 1800x600 with 2 Axes>"
            ],
            "image/png": "[encoded data removed]"
          },
          "metadata": {}
        },
        {
          "output_type": "stream",
          "name": "stdout",
          "text": [
            "\n",
            "\n",
            "[최고 성능 모델 로드 및 Validation Set 평가 시작]\n",
            "저장된 'best_model.pth'를 성공적으로 로드했습니다.\n"
          ]
        },
        {
          "output_type": "stream",
          "name": "stderr",
          "text": [
            "Final Validation: 100%|██████████| 81/81 [00:23<00:00,  3.52it/s]\n"
          ]
        },
        {
          "output_type": "stream",
          "name": "stdout",
          "text": [
            "\n",
            "Validation Set 예측 결과가 'prediction_comparison_validation.csv' 파일로 저장되었습니다.\n",
            "\n",
            "--- Validation Set 성능 요약 (Best Model) ---\n",
            "분류 정확도: 97.52%\n",
            "데시벨 예측 MAE: 1.50 dB\n",
            "------------------------------------------\n",
            "\n",
            "[결과 미리보기]\n",
            "             filename actual_label predicted_label  actual_decibel  \\\n",
            "0   2_book_2_1_24.wav         book            book       66.139999   \n",
            "1  2_book_3_5_125.wav         book            book       63.750000   \n",
            "2  2_book_2_3_156.wav         book            book       60.990002   \n",
            "3   2_book_2_3_20.wav         book            book       67.790001   \n",
            "4  2_book_2_3_220.wav         book            book       63.939999   \n",
            "\n",
            "   predicted_decibel  \n",
            "0          65.699356  \n",
            "1          63.876888  \n",
            "2          59.851105  \n",
            "3          67.469482  \n",
            "4          65.453735  \n",
            "\n",
            "\n",
            "[Test Set으로 최종 예측 시작]\n",
            "Test Set 준비가 완료되었습니다.\n"
          ]
        },
        {
          "output_type": "stream",
          "name": "stderr",
          "text": [
            "Testing: 100%|██████████| 41/41 [00:11<00:00,  3.49it/s]\n"
          ]
        },
        {
          "output_type": "stream",
          "name": "stdout",
          "text": [
            "\n",
            "Test Set 예측이 완료되었습니다. 최종 평가를 진행합니다.\n",
            "\n",
            "\n",
            "[Test Set 최종 성능 평가, 저장 및 과적합 분석 시작]\n",
            "\n",
            "--------------------------------------------------\n",
            "                1. 소음원 분류(Classification) 성능 지표\n",
            "--------------------------------------------------\n",
            "\n",
            "- 전체 분류 정확도 (Accuracy): 97.55%\n",
            "\n",
            "[Classification Report]\n",
            "              precision    recall  f1-score   support\n",
            "\n",
            "        desk       1.00      0.95      0.98        63\n",
            "       chair       1.00      0.99      0.99        73\n",
            "lecturestand       0.93      0.97      0.95        70\n",
            "        book       0.96      1.00      0.98        50\n",
            "      hammer       0.99      0.97      0.98        71\n",
            "\n",
            "    accuracy                           0.98       327\n",
            "   macro avg       0.98      0.98      0.98       327\n",
            "weighted avg       0.98      0.98      0.98       327\n",
            "\n",
            "\n",
            "[Confusion Matrix]\n"
          ]
        },
        {
          "output_type": "display_data",
          "data": {
            "text/plain": [
              "<Figure size 1000x800 with 2 Axes>"
            ],
            "image/png": "[encoded data removed]"
          },
          "metadata": {}
        },
        {
          "output_type": "stream",
          "name": "stdout",
          "text": [
            "\n",
            "--------------------------------------------------\n",
            "                2. 데시벨 예측(Regression) 성능 지표\n",
            "--------------------------------------------------\n",
            "\n",
            "- 평균 절대 오차 (MAE)     : 1.4121 dB\n",
            "- 평균 제곱 오차 (MSE)     : 6.3069\n",
            "- 평균 제곱근 오차 (RMSE)  : 2.5114\n",
            "- R² 점수 (R2 Score)       : 0.9347\n",
            "\n",
            "--------------------------------------------------\n",
            "                3. 최종 결과 종합 및 파일 저장\n",
            "--------------------------------------------------\n",
            "\n",
            "모든 상세 결과가 'test_results_all_in_one.csv' 파일로 저장되었습니다.\n",
            "\n",
            "[저장된 파일 미리보기]\n",
            "             filename actual_label predicted_label label_match  \\\n",
            "0  2_book_3_5_128.wav         book            book       Match   \n",
            "1  2_book_1_3_173.wav         book            book       Match   \n",
            "2  2_book_1_3_230.wav         book            book       Match   \n",
            "3    2_book_2_3_2.wav         book            book       Match   \n",
            "4  2_book_3_1_234.wav         book            book       Match   \n",
            "\n",
            "   actual_decibel  predicted_decibel  decibel_difference  overall_accuracy  \\\n",
            "0           63.10          63.500046            0.400046          0.975535   \n",
            "1           72.51          71.575211            0.934789          0.975535   \n",
            "2           61.10          60.833519            0.266481          0.975535   \n",
            "3           64.33          63.955971            0.374029          0.975535   \n",
            "4           57.52          55.991302            1.528698          0.975535   \n",
            "\n",
            "   overall_mae  \n",
            "0     1.412057  \n",
            "1     1.412057  \n",
            "2     1.412057  \n",
            "3     1.412057  \n",
            "4     1.412057  \n",
            "\n",
            "\n",
            "--------------------------------------------------\n",
            "                4. 과적합(Overfitting) 분석\n",
            "--------------------------------------------------\n",
            "\n",
            "[Validation Set vs. Test Set 성능 비교]\n",
            "\n",
            "============================================================\n",
            "성능 지표                     | Validation Set  | Test Set       \n",
            "------------------------------------------------------------\n",
            "분류 정확도 (Accuracy)         | 97.52%          | 97.55%         \n",
            "데시벨 예측 오차 (MAE)           | 1.5021          | 1.4121         \n",
            "============================================================\n",
            "\n",
            "[자동 분석 결과]\n",
            "-> Test Set 성능이 Validation Set 성능과 유사하게 유지되었습니다.\n",
            "   모델이 새로운 데이터에 대해서도 일반화 성능을 보이는 것으로 판단됩니다.\n"
          ]
        }
      ]
    }
  ]
}